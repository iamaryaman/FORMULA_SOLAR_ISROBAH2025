{
 "cells": [
  {
   "cell_type": "markdown",
   "metadata": {
    "cell_id": "90a8a95be1cf49a9bf4e24cf6d765fb5",
    "deepnote_cell_type": "text-cell-p",
    "formattedRanges": []
   },
   "source": []
  },
  {
   "cell_type": "code",
   "execution_count": null,
   "metadata": {
    "cell_id": "966310e08c294122ad2dd89e21055518",
    "deepnote_cell_type": "code"
   },
   "outputs": [],
   "source": [
    "pip install spacepy numpy pandas "
   ]
  },
  {
   "cell_type": "code",
   "execution_count": null,
   "metadata": {
    "cell_id": "8841916e37ec42719cd92af794a21fc3",
    "deepnote_cell_type": "code"
   },
   "outputs": [],
   "source": [
    "from spacepy import pycdf\n",
    "import numpy as np\n",
    "import pandas as pd\n",
    "\n",
    "cdf_path = \"/work/AL1_ASW91_L2_BLK_20250630_UNP_9999_999999_V02.cdf\"\n",
    "cdf = pycdf.CDF(cdf_path)\n",
    "\n",
    "epoch = cdf['epoch_for_cdf_mod'][...]\n",
    "density = cdf['proton_density'][...]\n",
    "speed = cdf['proton_bulk_speed'][...]\n",
    "temperature = cdf['proton_thermal'][...]\n",
    "\n",
    "FILLVAL = -1e31\n",
    "density = np.where(density == FILLVAL, np.nan, density)\n",
    "speed = np.where(speed == FILLVAL, np.nan, speed)\n",
    "temperature = np.where(temperature == FILLVAL, np.nan, temperature)\n",
    "\n",
    "if isinstance(epoch[0], pd.Timestamp) or isinstance(epoch[0], np.datetime64) or hasattr(epoch[0], 'year'):\n",
    "    time_dt = pd.to_datetime(epoch)\n",
    "else:\n",
    "    try:\n",
    "        time_dt = pycdf.epoch_to_datetime(epoch)\n",
    "    except Exception as e:\n",
    "        print(\"SpacePy epoch_to_datetime failed, using manual conversion:\", e)\n",
    "        time_dt = pd.to_datetime(epoch - 62167219200000, unit='ms', origin='1970-01-01')\n",
    "\n",
    "df = pd.DataFrame({\n",
    "    'time': time_dt,\n",
    "    'density_cm3': density,\n",
    "    'speed_km_s': speed,\n",
    "    'temperature': temperature\n",
    "})\n",
    "\n",
    "df['density_ma'] = df['density_cm3'].rolling(window=60, min_periods=1).mean()\n",
    "df['speed_ma'] = df['speed_km_s'].rolling(window=60, min_periods=1).mean()\n",
    "df['temp_ma'] = df['temperature'].rolling(window=60, min_periods=1).mean()\n",
    "df['density_grad'] = df['density_cm3'].diff().rolling(window=10, min_periods=1).mean()\n",
    "df['speed_grad'] = df['speed_km_s'].diff().rolling(window=10, min_periods=1).mean()\n",
    "df['combined_metric'] = df['density_cm3'] * df['speed_km_s']\n",
    "\n",
    "df.to_csv('aditya_l1_swis_data.csv', index=False)\n",
    "print(\"Data saved to 'aditya_l1_swis_data.csv'\")\n",
    "\n",
    "cdf.close()\n"
   ]
  },
  {
   "cell_type": "markdown",
   "metadata": {
    "created_in_deepnote_cell": true,
    "deepnote_cell_type": "markdown"
   },
   "source": [
    "<a style='text-decoration:none;line-height:16px;display:flex;color:#5B5B62;padding:10px;justify-content:end;' href='https://deepnote.com?utm_source=created-in-deepnote-cell&projectId=e60a24d0-64ab-4d4c-924c-56a613793cdc' target=\"_blank\">\n",
    "<img alt='Created in deepnote.com' style='display:inline;max-height:16px;margin:0px;margin-right:7.5px;' src='data:image/svg+xml;base64,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' > </img>\n",
    "Created in <span style='font-weight:600;margin-left:4px;'>Deepnote</span></a>"
   ]
  }
 ],
 "metadata": {
  "deepnote_notebook_id": "fde1377a2b9e40c8b863436c6965619e",
  "language_info": {
   "name": "python"
  }
 },
 "nbformat": 4,
 "nbformat_minor": 0
}
